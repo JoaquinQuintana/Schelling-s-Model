{
 "cells": [
  {
   "cell_type": "markdown",
   "id": "72b46045",
   "metadata": {},
   "source": [
    "# Schelling's Seasonal Sport World"
   ]
  },
  {
   "cell_type": "markdown",
   "id": "1e8202c9",
   "metadata": {},
   "source": [
    "#### __Your Name Here:__ Joaquin Quintana"
   ]
  },
  {
   "cell_type": "markdown",
   "id": "4bb20291",
   "metadata": {},
   "source": [
    "### Intro\n",
    "\n",
    "In this make believe world there are two distinct groups of people, and they do not get along. These two groups are Winter sports fans and Summer sports fans. Both groups think that their seasonal sports are the best, and they constantly argue with one another. They have collectively decided that the best plan of action is to move around so that everyone has some neighbors that like the same sports as they do. In this assignment you will simulate a torus model that represents the world that was just described."
   ]
  },
  {
   "cell_type": "markdown",
   "id": "9e66775f",
   "metadata": {},
   "source": [
    "### Directions\n",
    "\n",
    "There are three different scenarios that need to be implemented to fully complete this assignment:\n",
    "\n",
    "Scenario 1: Every home has to have at least 4 or more neighbors that are the same as them.\n",
    "\n",
    "Scenario 2: Every home has to have between 1 and 4 (inclusive) neigbors that are the same as them.\n",
    "\n",
    "Scenario 3: The third scenario adds a third neighbor that likes BOTH winter and summer sports. These neighbors are sufficent for both summer sport neighbors and winter sport neihbors. In this scenario we still make sure every home has at least 4 like minded neighbors."
   ]
  },
  {
   "cell_type": "markdown",
   "id": "2e1d9989",
   "metadata": {},
   "source": [
    "### Packages\n",
    "\n",
    "Import the necessary packages. You should be able to complete the assignment by only using these. But, feel free to import other packages if you'd like."
   ]
  },
  {
   "cell_type": "code",
   "execution_count": 1,
   "id": "cc6669d1",
   "metadata": {},
   "outputs": [],
   "source": [
    "import numpy as np\n",
    "import itertools\n",
    "from numpy.random import shuffle\n",
    "import random as rand\n",
    "import matplotlib.pyplot as plt\n",
    "from matplotlib import colors\n",
    "import pandas as pd"
   ]
  },
  {
   "cell_type": "markdown",
   "id": "d155fecd",
   "metadata": {},
   "source": [
    "### Write a function to initialize the starting matrix for each scenario."
   ]
  },
  {
   "cell_type": "markdown",
   "id": "0d18f7f6",
   "metadata": {},
   "source": [
    "The first and second scenario can use the same function because they only use 2 types of neighbors. You should generate an array 100 people, 50 Winter sports fans and 50 Summer sports fans for the first 2 scenarios. The third scenario will have 33 Winter fans, 33 Summer fans, and 34 Summer/Winter fans. After you generate the array, randomly select 12 homes and set them to 0. 0 will represent a vacant home for this assignment. The Winter and Summer sport fans will be represented by a value of 1 and a value of 2. Homes that do not meet the neighbor requirement will be moved to these vacant homes until all of the homes meet the specified condition. After setting some homes to be vacant, we need to reshape our array into a 10x10 matrix instad of a 1x100 array. Once this is done we can begin the simulation.  \n",
    "\n",
    "I highly recommend looking into the documentation for numpy if you have not used it before. But, np.random.randint() and np.random.shuffle() might be helpful when creating this function."
   ]
  },
  {
   "cell_type": "markdown",
   "id": "9e328f8a",
   "metadata": {},
   "source": [
    "#### Function to initialize the starting matrix for the 1st and 2nd scenario\n",
    "#### 10 Points:"
   ]
  },
  {
   "cell_type": "code",
   "execution_count": 2,
   "id": "a29b25a3",
   "metadata": {
    "scrolled": true
   },
   "outputs": [],
   "source": [
    "#Scenario 1 & 2 Start-Up\n",
    "def startUp1and2():\n",
    "    #make a randomized array with 50 winter sports fans and 50 summer sports fans\n",
    "    #once you have a randomized initial array, randomly select 12 homes and make them vacant\n",
    "    #reshape our array so it is in a 10x10 matrix rather than a 1x100 array\n",
    "    #print the world so you can look at the matrix before and after running the schelling algorithm\n",
    "    a = np.concatenate((np.ones(50), np.full(50,2)), axis=0)\n",
    "    np.random.shuffle(a)\n",
    "    n = a.shape\n",
    "    #make 12 random homes vacant\n",
    "    sampleTwelve = np.random.randint(n, size=(1, 13))\n",
    "    for i in sampleTwelve:\n",
    "        a[i] = 0\n",
    "    return np.reshape(a,(10,10),order ='F') \n"
   ]
  },
  {
   "cell_type": "code",
   "execution_count": 3,
   "id": "3b61b3e0",
   "metadata": {},
   "outputs": [
    {
     "data": {
      "text/plain": [
       "array([[1., 1., 0., 2., 0., 2., 2., 0., 2., 2.],\n",
       "       [2., 1., 0., 2., 1., 2., 1., 1., 1., 2.],\n",
       "       [2., 1., 0., 0., 1., 1., 1., 2., 2., 1.],\n",
       "       [2., 2., 2., 2., 2., 1., 1., 2., 1., 2.],\n",
       "       [0., 0., 2., 0., 2., 1., 2., 2., 1., 2.],\n",
       "       [1., 0., 1., 1., 1., 2., 2., 1., 2., 0.],\n",
       "       [2., 2., 1., 1., 1., 2., 2., 0., 2., 2.],\n",
       "       [2., 0., 2., 2., 1., 1., 2., 1., 2., 1.],\n",
       "       [1., 2., 1., 2., 1., 1., 2., 1., 1., 1.],\n",
       "       [1., 1., 1., 2., 2., 1., 2., 2., 1., 1.]])"
      ]
     },
     "execution_count": 3,
     "metadata": {},
     "output_type": "execute_result"
    }
   ],
   "source": [
    "#Sanity Check\n",
    "test = startUp1and2()\n",
    "test"
   ]
  },
  {
   "cell_type": "markdown",
   "id": "81fbcf52",
   "metadata": {},
   "source": [
    "#### Function to initialize the starting matrix for the 3rd scenario\n",
    "#### 10 Points:"
   ]
  },
  {
   "cell_type": "code",
   "execution_count": 4,
   "id": "9b107b18",
   "metadata": {},
   "outputs": [],
   "source": [
    "#Scenario 3 Start-Up\n",
    "def startUp3():\n",
    "    #make a randomized array with 33 Winter sport fans, 33 summer sport fans, and 34 winter/summer sport fans\n",
    "    #once you have a randomized initial array, randomly select 12 homes and make them vacant\n",
    "    #reshape our array so it is in a 10x10 matrix rather than a 1x100 array\n",
    "    #print the world so you can look at the matrix before and after running the schelling algorithm\n",
    "    \n",
    "        \n",
    "    #The third scenario adds a third neighbor that likes BOTH winter and summer sports. These neighbors are sufficent for both summer sport neighbors and winter sport neihbors. \n",
    "    #In this scenario we still make sure every home has at least 4 like minded neighbors.\n",
    "    #let the third group be represented by a 3\n",
    "    a = np.concatenate((np.ones(33), np.full(33,2),np.full(34,3)), axis=0)\n",
    "    np.random.shuffle(a)\n",
    "    #print(a)\n",
    "    n = a.shape\n",
    "    #make 12 random homes vacant\n",
    "    sampleTwelve = np.random.randint(n, size=(1, 12))\n",
    "    for i in sampleTwelve:\n",
    "        a[i] = 0\n",
    "    return np.reshape(a,(10,10),order ='F') "
   ]
  },
  {
   "cell_type": "code",
   "execution_count": 5,
   "id": "5d4d2996",
   "metadata": {},
   "outputs": [
    {
     "data": {
      "text/plain": [
       "array([[3., 2., 0., 0., 3., 0., 1., 1., 3., 1.],\n",
       "       [2., 1., 0., 3., 1., 0., 1., 3., 3., 3.],\n",
       "       [2., 3., 2., 3., 2., 1., 1., 2., 2., 0.],\n",
       "       [1., 2., 1., 3., 2., 1., 2., 3., 1., 2.],\n",
       "       [3., 2., 2., 3., 1., 1., 1., 3., 1., 1.],\n",
       "       [0., 2., 3., 1., 1., 0., 2., 3., 2., 2.],\n",
       "       [3., 1., 0., 3., 2., 1., 3., 3., 1., 1.],\n",
       "       [3., 1., 2., 3., 2., 3., 1., 2., 3., 3.],\n",
       "       [2., 2., 3., 1., 2., 1., 3., 2., 1., 3.],\n",
       "       [0., 3., 3., 2., 1., 3., 3., 2., 2., 1.]])"
      ]
     },
     "execution_count": 5,
     "metadata": {},
     "output_type": "execute_result"
    }
   ],
   "source": [
    "#Sanity Check\n",
    "test2 = startUp3()\n",
    "test2"
   ]
  },
  {
   "cell_type": "markdown",
   "id": "4284e05c",
   "metadata": {},
   "source": [
    "### Determine which cells are vacant\n",
    "\n",
    "Create a function to find the locations of the vacant spaces. There are many ways to do this, one way is to loop through our matrix and append the indices where the given home is vacant."
   ]
  },
  {
   "cell_type": "markdown",
   "id": "909741aa",
   "metadata": {},
   "source": [
    "#### 10 Points:"
   ]
  },
  {
   "cell_type": "code",
   "execution_count": 6,
   "id": "748ed3ff",
   "metadata": {},
   "outputs": [],
   "source": [
    "    #determines the locations in the matrix where homes are vacant\n",
    "#function takes in matrix that contains neighbor info, we return the list of indices where the homes are vacant\n",
    "def vacancies(world):\n",
    "    #vacant_homes = list('')\n",
    "    #loop through every row in the world matrix:\n",
    "        #Nested loop through every column in the current row of the world matrix:\n",
    "             #if the current home is vacant (i.e. = 0)\n",
    "                #append the current row/column indices to the vacant_homes list\n",
    "    \n",
    "        return np.argwhere(world == 0)"
   ]
  },
  {
   "cell_type": "code",
   "execution_count": 7,
   "id": "c37f5019",
   "metadata": {},
   "outputs": [
    {
     "name": "stdout",
     "output_type": "stream",
     "text": [
      "[[1. 2. 2. 2. 1. 1. 2. 1. 2. 2.]\n",
      " [2. 0. 1. 1. 1. 2. 1. 1. 2. 1.]\n",
      " [1. 2. 0. 1. 2. 1. 2. 2. 1. 1.]\n",
      " [2. 1. 1. 1. 2. 0. 1. 1. 0. 1.]\n",
      " [2. 1. 2. 0. 1. 1. 2. 1. 1. 1.]\n",
      " [2. 0. 1. 2. 1. 2. 1. 1. 1. 2.]\n",
      " [2. 2. 1. 2. 0. 2. 2. 1. 2. 1.]\n",
      " [0. 1. 2. 1. 2. 0. 1. 1. 2. 2.]\n",
      " [0. 1. 1. 0. 1. 2. 2. 2. 2. 1.]\n",
      " [1. 1. 1. 2. 2. 2. 2. 0. 1. 2.]]\n"
     ]
    }
   ],
   "source": [
    "test = startUp1and2()\n",
    "print(test)"
   ]
  },
  {
   "cell_type": "markdown",
   "id": "9e96b957",
   "metadata": {},
   "source": [
    "### Move Neighbor\n",
    "\n",
    "Create a function to move the people in a home that does not meeting the neighbor requirements to a vacant home. You should randomly choose a set of indices that are stored in 'vacant_homes' and perform a swap with current home type and the vacant home type. After the home is swapped return our updated world."
   ]
  },
  {
   "cell_type": "markdown",
   "id": "909740f3",
   "metadata": {},
   "source": [
    "#### 10 Points:"
   ]
  },
  {
   "cell_type": "code",
   "execution_count": 8,
   "id": "71feb205-de85-4219-8fd6-ee6374501eab",
   "metadata": {},
   "outputs": [],
   "source": [
    "    #relocates a family that has insufficient neighbors to a random empty cell\n",
    "#function takes in a row and column index, a list of indices containing the vacant homes, and a matrix of the world\n",
    "def move(row, col, vacant_homes, world):\n",
    "#     randomly choose a vacant_home from the list\n",
    "#     make a temp variable to store the vacant home\n",
    "#     move the new people into the vacant home\n",
    "#     set the old home that was moved out of to the temp variable that stored the vacant home\n",
    "    #oldSpot = [row,col]\n",
    "       \n",
    "        newSpot = rand.choice(vacant_homes)#select a single vacant lot at random\n",
    "        dataAtNewSpot = world[row,col]\n",
    "\n",
    "        dataVacant = world[newSpot[0],newSpot[1]]\n",
    "        #swap data \n",
    "\n",
    "        world[newSpot[0],newSpot[1]] = dataAtNewSpot\n",
    "        world[row,col] = dataVacant\n",
    "        #update the new spot to have the current value from\n",
    "        #make the oldSpot vacant \n",
    "        #print(world)\n",
    "\n",
    "        return world"
   ]
  },
  {
   "cell_type": "markdown",
   "id": "f0c66a9a",
   "metadata": {},
   "source": [
    "### Determine Neighbors\n",
    "\n",
    "Create a function to determine which neighbors are surrounding the current home. Keep in mind that this is a torus model. That means the far left column connects with the far right column, and the top row connects to the bottom row. Think of the model as a sphere or world rather than a grid or world. It might help to draw/print out an example matrix to help visualize what the neighbor would be for edge columns/rows.  **This can easily be solved by brute force (demonstrated below) using if-statements if you understand the layout of the torus matrix** . All cells will have 8 neighbors. Make sure to include all of them in the if-statements. **Any more elegant methods that achieve the required outcomes/output are welcome!**."
   ]
  },
  {
   "cell_type": "markdown",
   "id": "7c021bc7",
   "metadata": {},
   "source": [
    "#### 10 Points:"
   ]
  },
  {
   "cell_type": "code",
   "execution_count": 9,
   "id": "e76c7c63-55fd-42e4-83f3-fabb94f32871",
   "metadata": {},
   "outputs": [],
   "source": [
    "#creates a list of neighboring cells that surround a given cell. \n",
    "#Left/Right/Top/Bottom columns/rows wrap around so everything is connected\n",
    "#Brute Force Pseudo-Code Below\n",
    "def whosAround(row, col, world):\n",
    "    #we want to start out search \n",
    "    row,col = row-1, col-1\n",
    "\n",
    "    #create torid world \n",
    "        \n",
    "    tor = torid(world)\n",
    "    \n",
    "    arr = tor[row:row+3, col:col+3]\n",
    "\n",
    "    (unique, counts) = np.unique(arr, return_counts=True)\n",
    "    f = np.asarray((unique, counts)).T\n",
    "\n",
    "    df = pd.DataFrame(f,columns=list('nf')).set_index('n')\n",
    "\n",
    "\n",
    "    #print(arr,\"\\n\",tor,df)\n",
    "    #get the home owners value\n",
    "    currentHomeValue = tor[row+1,col+1]\n",
    "    vacantNeighboors = 0\n",
    "    if(0 in df.index and currentHomeValue != 0):\n",
    "        vacantNeighboors = df.loc[[currentHomeValue]]\n",
    "\n",
    "\n",
    "    if (df.size == 1):\n",
    "        b = [8]\n",
    "        #d = df.iloc[[currentHomeValue]] - 1 #dont count the pixel value which we are evaluating\n",
    "    elif(3 in df.index):\n",
    "        if currentHomeValue != 3:\n",
    "            a = df.loc[3] \n",
    "            d = df.loc[[currentHomeValue]] -1\n",
    "            b = d.to_numpy() + a.to_numpy() \n",
    "            return b[0] \n",
    "        elif(currentHomeValue ==3 ):\n",
    "            b = df.loc[3] - 1 #dont count the pixel value which we are evaluating\n",
    "            return b[0]\n",
    "\n",
    "    else: \n",
    "        d = df.loc[[currentHomeValue]] - 1 #dont count the pixel value which we are evaluating\n",
    "        b = d.to_numpy()\n",
    "    #else:\n",
    "    #    b = [8]#we don't want to move vacant houses in this operation So lets say these are satisfied for now\n",
    "    #print()\n",
    "    return b[0] \n",
    "\n",
    "def torid(world): #can also handle the torid world using the modulo operator but this works since the size of the world is constant. \n",
    "        first = world[:,0]#all rows and col 1\n",
    "        end = world[:,-1]#all rows and last col\n",
    "        top = world[0,:]#first row all columns\n",
    "        bottom = world[-1,:]#last row all columns\n",
    "        #pad the bottom an top so we can accout for the corners of the world\n",
    "        bottom = np.pad(bottom, (1, 1), 'constant', constant_values=(0, 0))\n",
    "        top = np.pad(top, (1, 1), 'constant', constant_values=(0, 0))\n",
    "\n",
    "        #append to test to create torid \n",
    "\n",
    "\n",
    "        a = np.column_stack((world, first))#append first column to end of array\n",
    "        #append last column to front of array \n",
    "        a = np.concatenate((np.zeros(10)[:, np.newaxis], a), axis=1)\n",
    "        a[:,0] = end\n",
    "        a = np.vstack((bottom,a))#attacch bottom as top row\n",
    "        a = np.vstack((a,top))#attach top as bottom row. \n",
    "\n",
    "        a[0,0] = world[9,9]\n",
    "        #lr = ul\n",
    "        a[11,11] =world[0,0]\n",
    "\n",
    "        a[11,0] = world[0,9]\n",
    "        #ur = ll\n",
    "        a[0,11] = world[9,0]\n",
    "        return a"
   ]
  },
  {
   "cell_type": "markdown",
   "id": "621e1381",
   "metadata": {},
   "source": [
    "### Create a Schelling Model that implements the rules describes in Scenario 1: \n",
    "\n",
    "This means that a Winter sports fan must have at least 4 neighbors that are also Winter sports fans. If they do not have at least 4 neighbors we have to move them.\n",
    "\n",
    "Use the helper functions you previously made to create this. i.e. vacancies(), whosAround(), and move() will all be necessary to complete this function."
   ]
  },
  {
   "cell_type": "markdown",
   "id": "60e2ab44",
   "metadata": {},
   "source": [
    "#### 10 Points:"
   ]
  },
  {
   "cell_type": "code",
   "execution_count": 10,
   "id": "48e9c03d-e416-42f3-9f0b-3765333e6424",
   "metadata": {},
   "outputs": [],
   "source": [
    "def SchellingModel1(world):\n",
    "    #diff_check = 0\n",
    "    #loop through every row in the world matrix:\n",
    "        #Nested loop through every column in the current row of the world matrix:\n",
    "            #refresh list of vacant homes\n",
    "            #refresh neighbors\n",
    "            #get value of current row/col location\n",
    "            #set count of same neighbor = 0\n",
    "            #loop through list returned from whosAround function\n",
    "                #if neighbor is the same as current location in matrix increase the count of same neighbor.\n",
    "            #after looping through neighbors, check count of same neighbors\n",
    "                #if it is less than 4 increase the diff_check\n",
    "                #call move() with updated world because neighbor requirement not met\n",
    "        diff_check = 0\n",
    "        n,m = world.shape\n",
    "        \n",
    "        for p in itertools.product(range(m),range(n)):\n",
    "            i,j=p # unpack the iterables\n",
    "            sameNeighbor = whosAround(i+1, j+1, world)\n",
    "\n",
    "            if sameNeighbor < 4:\n",
    "                diff_check += 1 \n",
    "                world = move(i, j, vacancies(world), world)\n",
    "\n",
    "        return world, diff_check"
   ]
  },
  {
   "cell_type": "markdown",
   "id": "36892e5a",
   "metadata": {},
   "source": [
    "### Create a Schelling model that implements the rules described in scenario 2:\n",
    "\n",
    "This means that a Winter/Summer sports fan must have between 1 and 4 neighbors to be considered sufficient.\n",
    "\n",
    "Once again, use the helper functions that you created earlier to solve this function."
   ]
  },
  {
   "cell_type": "markdown",
   "id": "c557cb29",
   "metadata": {},
   "source": [
    "#### 10 Points:"
   ]
  },
  {
   "cell_type": "code",
   "execution_count": 11,
   "id": "494f0455",
   "metadata": {},
   "outputs": [],
   "source": [
    "def SchellingModel2(world):\n",
    "    diff_check = 0\n",
    "     #loop through every row in the world matrix:\n",
    "        #Nested loop through every column in the current row of the world matrix:\n",
    "            #refresh list of vacant homes\n",
    "            #refresh neighbors\n",
    "            #get value of current row/col location\n",
    "            #set count of same neighbor = 0\n",
    "            #loop through list returned from whosAround function\n",
    "                #if neighbor is the same as current location in matrix increase the count of same neighbor.\n",
    "            #after looping through neighbors, check count of same neighbors\n",
    "                #if it is less than 1 or greater than 4 increase the diff_check\n",
    "                #call move() with updated world because neighbor requirement not met\n",
    "    diff_check = 0\n",
    "    n,m = world.shape\n",
    "    \n",
    "    for p in itertools.product(range(m),range(n)):\n",
    "        i,j=p # unpack the iterables\n",
    "        sameNeighbor = whosAround(i+1, j+1, world)\n",
    "\n",
    "        if (sameNeighbor < 1 or sameNeighbor > 4):\n",
    "            diff_check += 1 \n",
    "            world = move(i, j, vacancies(world), world)\n",
    "\n",
    "    return world, diff_check"
   ]
  },
  {
   "cell_type": "markdown",
   "id": "bd660989",
   "metadata": {},
   "source": [
    "### Create a Schelling Model that implements the rules described in scenario 3:\n",
    "\n",
    "This means that Winter and Summer sports fans must have at least 4 neighbors that like the same season for sports as them or both seasons of sports."
   ]
  },
  {
   "cell_type": "markdown",
   "id": "ef9b2953",
   "metadata": {},
   "source": [
    "#### 10 Points:"
   ]
  },
  {
   "cell_type": "code",
   "execution_count": 12,
   "id": "726d51a5",
   "metadata": {},
   "outputs": [],
   "source": [
    "def SchellingModel3(world):\n",
    "    diff_check = 0\n",
    "    #loop through every row in the world matrix:\n",
    "        #Nested loop through every column in the current row of the world matrix:\n",
    "            #refresh list of vacant homes\n",
    "            #refresh neighbors\n",
    "            #get value of current row/col location\n",
    "            #set count of same neighbor = 0\n",
    "            #loop through list returned from whosAround function\n",
    "                #increase count if current home only like one season of sports and neighbor likes both seasons of sports or the same season of sports as the current home\n",
    "                #increase count if current home likes both seasons of sports and neighbor likes both season of sports, summer sports, or winter sports\n",
    "            #after looping through neighbors, check count of same neighbors\n",
    "                #if it is less than 4 increase the diff_check\n",
    "                #call move() with updated world because neighbor requirement not met\n",
    "    diff_check = 0\n",
    "\n",
    "    n,m = world.shape\n",
    "    \n",
    "    for p in itertools.product(range(m),range(n)):\n",
    "        i,j=p # unpack the iterables\n",
    "        \n",
    "        sameNeighbor = whosAround(i+1, j+1, world)\n",
    "        #print(sameNeighbor)\n",
    "\n",
    "        if sameNeighbor < 4 and world[i,j] != (0 or 3):\n",
    "            diff_check += 1 \n",
    "            world = move(i, j, vacancies(world), world)\n",
    "       \n",
    "    return world, diff_check"
   ]
  },
  {
   "cell_type": "markdown",
   "id": "46760d0a",
   "metadata": {},
   "source": [
    "### Create a Main Function For Scenario 1, 2 and 3:\n",
    "\n",
    "You should run the Schelling Model function until there are only 12 neighbors who do not meet the requirements. These 12 neighbors represent the 12 vacant homes. I recommend using a while loop that calls the Schelling Model function until the number of neighbors not meeting requirements is 12. \n",
    "\n",
    "Use plt.imshow() to create a graphic visualization of your matrix. You should be able to produce a graph that represents the new sorted world for each condition.\n",
    "\n",
    "You should print out the current amount of homes that have too many neighbors that prefer a different season of sports as they do. Once this value hits 0 you know that your graph is sorted. You should also do a visual check as well to make sure that the value being printed is true."
   ]
  },
  {
   "cell_type": "markdown",
   "id": "543a4c7f",
   "metadata": {},
   "source": [
    "#### 10 Points:"
   ]
  },
  {
   "cell_type": "code",
   "execution_count": 13,
   "id": "d9837ed9",
   "metadata": {},
   "outputs": [],
   "source": [
    "def check1(world):\n",
    "    #while some homes have too many different neighbors:\n",
    "    world, diff_check = SchellingModel1(world)\n",
    "    #print(\"DiffCheck: \", diff_check)\n",
    "\n",
    "    while(diff_check >= 12):\n",
    "        world, diff_check = SchellingModel1(world)\n",
    "    \n",
    "    print(\"World 1  : \\n\", world, \"\\n\\n\", \"Colored Model:\")\n",
    "    plt.imshow(world)\n",
    "    plt.show()"
   ]
  },
  {
   "cell_type": "code",
   "execution_count": 14,
   "id": "7666d05a",
   "metadata": {},
   "outputs": [
    {
     "name": "stdout",
     "output_type": "stream",
     "text": [
      "World 1  : \n",
      " [[1. 1. 1. 1. 1. 1. 1. 1. 1. 1.]\n",
      " [1. 1. 0. 1. 1. 1. 1. 1. 1. 1.]\n",
      " [1. 1. 1. 1. 1. 1. 1. 1. 1. 1.]\n",
      " [1. 1. 0. 0. 0. 1. 1. 2. 2. 2.]\n",
      " [2. 0. 0. 2. 2. 2. 2. 2. 2. 2.]\n",
      " [2. 2. 2. 2. 2. 2. 0. 2. 2. 2.]\n",
      " [2. 2. 2. 2. 2. 2. 2. 2. 2. 2.]\n",
      " [2. 2. 2. 2. 2. 2. 2. 2. 2. 2.]\n",
      " [1. 0. 0. 0. 0. 2. 2. 2. 2. 1.]\n",
      " [1. 1. 0. 1. 1. 1. 1. 1. 1. 1.]] \n",
      "\n",
      " Colored Model:\n"
     ]
    },
    {
     "data": {
      "image/png": "[encoded data removed]",
      "text/plain": [
       "<Figure size 432x288 with 1 Axes>"
      ]
     },
     "metadata": {
      "needs_background": "light"
     },
     "output_type": "display_data"
    }
   ],
   "source": [
    "world = startUp1and2()\n",
    "check1(world)"
   ]
  },
  {
   "cell_type": "markdown",
   "id": "b0a59d3e",
   "metadata": {},
   "source": [
    "### Main Function For Scenario 2:\n",
    "\n",
    "#### 5 Points:"
   ]
  },
  {
   "cell_type": "code",
   "execution_count": 15,
   "id": "55fcd3ef",
   "metadata": {},
   "outputs": [],
   "source": [
    "def check2(world):\n",
    "        #while some homes have too many different neighbors:\n",
    "        world, diff_check = SchellingModel2(world)\n",
    "        #print(\"DiffCheck: \", diff_check)\n",
    "\n",
    "        while(diff_check >= 12):\n",
    "            world, diff_check = SchellingModel2(world)\n",
    "\n",
    "        print(\"World 2 : \\n\", world, \"\\n\\n\", \"Colored Model:\")\n",
    "        plt.imshow(world)\n",
    "        plt.show()"
   ]
  },
  {
   "cell_type": "code",
   "execution_count": 16,
   "id": "4a340de8",
   "metadata": {},
   "outputs": [
    {
     "name": "stdout",
     "output_type": "stream",
     "text": [
      "World 2 : \n",
      " [[2. 1. 1. 1. 1. 1. 1. 1. 1. 2.]\n",
      " [1. 2. 2. 1. 2. 2. 1. 2. 2. 1.]\n",
      " [2. 2. 2. 1. 0. 1. 2. 2. 1. 1.]\n",
      " [2. 1. 2. 1. 2. 1. 2. 1. 2. 0.]\n",
      " [1. 1. 1. 0. 2. 1. 1. 0. 0. 2.]\n",
      " [1. 2. 2. 2. 1. 1. 2. 2. 2. 2.]\n",
      " [2. 1. 2. 1. 2. 0. 2. 0. 0. 2.]\n",
      " [1. 1. 2. 1. 1. 2. 2. 1. 2. 0.]\n",
      " [2. 2. 1. 2. 1. 2. 1. 0. 2. 0.]\n",
      " [0. 2. 2. 2. 1. 2. 2. 1. 2. 0.]] \n",
      "\n",
      " Colored Model:\n"
     ]
    },
    {
     "data": {
      "image/png": "[encoded data removed]",
      "text/plain": [
       "<Figure size 432x288 with 1 Axes>"
      ]
     },
     "metadata": {
      "needs_background": "light"
     },
     "output_type": "display_data"
    }
   ],
   "source": [
    "world = startUp1and2()\n",
    "check2(world)"
   ]
  },
  {
   "cell_type": "markdown",
   "id": "82cb5eac",
   "metadata": {},
   "source": [
    "### Main Function For Scenario 3:\n",
    "\n",
    "#### 5 Points:"
   ]
  },
  {
   "cell_type": "code",
   "execution_count": 17,
   "id": "48440096-a232-4914-9858-f2897a9636d3",
   "metadata": {},
   "outputs": [],
   "source": [
    "def check3(world):\n",
    "        #while some homes have too many different neighbors:\n",
    "        world, diff_check = SchellingModel3(world)\n",
    "        #print(\"DiffCheck: \", diff_check)\n",
    "\n",
    "        while(diff_check >= 12):\n",
    "            world, diff_check = SchellingModel3(world)\n",
    "\n",
    "        #plt.imshow(world)\n",
    "        print(\"World 3 : \\n\", world, \"\\n\\n\", \"Colored Model:\")\n",
    "        plt.imshow(world)\n",
    "        plt.show()"
   ]
  },
  {
   "cell_type": "code",
   "execution_count": 18,
   "id": "f97e50c1",
   "metadata": {},
   "outputs": [
    {
     "name": "stdout",
     "output_type": "stream",
     "text": [
      "World 3 : \n",
      " [[3. 3. 2. 1. 2. 1. 2. 0. 3. 2.]\n",
      " [2. 2. 3. 3. 3. 2. 3. 2. 2. 2.]\n",
      " [2. 2. 1. 2. 2. 1. 3. 2. 2. 0.]\n",
      " [3. 1. 3. 2. 2. 3. 2. 0. 0. 2.]\n",
      " [2. 2. 1. 1. 1. 1. 3. 0. 3. 3.]\n",
      " [3. 1. 1. 1. 1. 0. 0. 2. 3. 3.]\n",
      " [1. 1. 1. 1. 1. 1. 0. 2. 1. 1.]\n",
      " [1. 0. 3. 0. 0. 1. 3. 2. 2. 1.]\n",
      " [1. 1. 3. 3. 1. 2. 3. 3. 3. 2.]\n",
      " [3. 3. 1. 2. 1. 3. 3. 2. 0. 2.]] \n",
      "\n",
      " Colored Model:\n"
     ]
    },
    {
     "data": {
      "image/png": "[encoded data removed]",
      "text/plain": [
       "<Figure size 432x288 with 1 Axes>"
      ]
     },
     "metadata": {
      "needs_background": "light"
     },
     "output_type": "display_data"
    }
   ],
   "source": [
    "world = startUp3()\n",
    "check3(world)"
   ]
  }
 ],
 "metadata": {
  "kernelspec": {
   "display_name": "Python 3",
   "language": "python",
   "name": "python3"
  },
  "language_info": {
   "codemirror_mode": {
    "name": "ipython",
    "version": 3
   },
   "file_extension": ".py",
   "mimetype": "text/x-python",
   "name": "python",
   "nbconvert_exporter": "python",
   "pygments_lexer": "ipython3",
   "version": "3.8.8"
  }
 },
 "nbformat": 4,
 "nbformat_minor": 5
}
